{
 "cells": [
  {
   "cell_type": "markdown",
   "metadata": {},
   "source": [
    "# Intro a estadistica con python\n"
   ]
  },
  {
   "cell_type": "code",
   "execution_count": 1,
   "metadata": {},
   "outputs": [],
   "source": [
    "import numpy as np \n",
    "import pandas as pd\n",
    "import matplotlib.pyplot as plt"
   ]
  },
  {
   "cell_type": "markdown",
   "metadata": {},
   "source": [
    "La estadística es una rama de las matemáticas que se ocupa de recopilar, organizar, analizar, interpretar y presentar datos. Aquí te doy algunos conceptos clave en estadística:\n",
    "\n",
    "**Población y muestra:** La población es el conjunto completo de datos o sujetos que están siendo estudiados. Una muestra es un subconjunto de la población, seleccionado para representarla en un análisis.\n",
    "\n",
    "**Variables:** En estadística, una variable es cualquier característica, número o cantidad que se puede medir o contar. Las variables pueden ser cualitativas (categóricas) o cuantitativas (numéricas).\n",
    "\n",
    "**Media, mediana y moda:**\n",
    "- **Media (promedio):** La suma de todos los valores dividida por el número de valores.\n",
    "- **Mediana:** El valor medio en un conjunto de datos ordenados.\n",
    "- **Moda:** El valor que aparece con más frecuencia en un conjunto de datos.\n",
    "\n",
    "**Desviación estándar y varianza:** Medidas que describen cuánto se dispersan los valores en un conjunto de datos respecto a la media.\n",
    "\n",
    "**Varianza:** El promedio de las diferencias cuadradas de cada valor respecto a la media.\n",
    "\n",
    "**Desviación estándar:** La raíz cuadrada de la varianza.\n",
    "\n",
    "**Probabilidad:** Una medida que indica cuán probable es que ocurra un evento. Va de 0 a 1, donde 0 indica imposibilidad y 1 indica certeza.\n",
    "\n",
    "**Inferencia estadística:** Proceso de usar datos de una muestra para hacer generalizaciones o inferencias sobre una población. Incluye técnicas como pruebas de hipótesis y estimaciones de intervalos.\n",
    "\n",
    "**Correlación y regresión:**\n",
    "- **Correlación:** Mide la relación entre dos variables, indicando si tienden a aumentar o disminuir juntas.\n",
    "- **Regresión:** Analiza la relación entre variables para predecir el valor de una variable basándose en el valor de otra.\n",
    "\n",
    "**Distribuciones de probabilidad:** Describen cómo se distribuyen los valores de una variable. Algunas distribuciones comunes incluyen la distribución normal, binomial y Poisson.\n",
    "\n",
    "**Prueba de hipótesis:** Un método para probar si una suposición sobre una característica de una población es verdadera o falsa usando datos de muestra.\n",
    "\n",
    "**Intervalos de confianza:** Un rango de valores que se estima que contiene el valor verdadero de un parámetro de población con un cierto nivel de confianza."
   ]
  },
  {
   "cell_type": "markdown",
   "metadata": {},
   "source": []
  },
  {
   "cell_type": "markdown",
   "metadata": {},
   "source": [
    "**Población y muestra:**\n",
    "- **Población:** Todos los estudiantes de una universidad.\n",
    "- **Muestra:** Un grupo de 200 estudiantes seleccionados al azar de esa universidad para una encuesta sobre hábitos de estudio.\n",
    "\n",
    "**Variables:**\n",
    "\n",
    "- **Cualitativa:** Color favorito de una persona (rojo, azul, verde, etc.).\n",
    "- **Cuantitativa:** Edad de los estudiantes en años.\n",
    "\n",
    "**Media, mediana y moda:**\n",
    "- **Conjunto de datos:** 3, 5, 9, 11, 11, 11, 12, 13, 14\n",
    "- **Media:** (3+5+9+11+11+11+12+13+14) / 9 = 10\n",
    "- **Mediana:** 11 (el valor medio)\n",
    "- **Moda:** 11 (el valor que más se repite)\n",
    "\n",
    "**Desviación estándar y varianza:**\n",
    "\n",
    "- **Conjunto de datos:** 2, 4, 4, 4, 5, 5, 7, 9\n",
    "- **Varianza:** aproximadamente 4.14\n",
    "- **Desviación estándar:** aproximadamente 2.03\n",
    "\n",
    "**Probabilidad:**\n",
    "\n",
    "- **Evento:** Sacar un as de una baraja estándar de 52 cartas.\n",
    "- **Probabilidad:** 4 ases en 52 cartas = 4/52 = 0.077 (aproximadamente 7.7%)\n",
    "\n",
    "**Inferencia estadística:**\n",
    "\n",
    "- **Muestra:** Alturas de 50 personas.\n",
    "- **Inferencia:** Estimar la altura media de la población de un país usando la media de la muestra.\n",
    "\n",
    "**Correlación y regresión:**\n",
    "\n",
    "- **Correlación:** Estudiar si existe una relación entre las horas de estudio y las calificaciones finales de los estudiantes.\n",
    "- **Regresión:** Predecir la calificación final a partir de las horas de estudio utilizando un modelo de regresión lineal.\n",
    "\n",
    "**Distribuciones de probabilidad:**\n",
    "\n",
    "- **Normal:** Distribución de IQ donde μ = 100, σ = 15.\n",
    "- **Binomial:** Lanzar 10 monedas y contar cuántas veces sale cara.\n",
    "- **Poisson:** Número de autos que pasan por un punto en una hora, con una media de 20 autos por hora.\n",
    "\n",
    "**Prueba de hipótesis:**\n",
    "\n",
    "- **Hipótesis nula (H0):** La media de duración de batería de un modelo de teléfono es de 24 horas.\n",
    "- **Hipótesis alternativa (H1):** La media de duración de batería es diferente de 24 horas.\n",
    "Realizar una prueba estadística para aceptar o rechazar H0 basada en una muestra de duración de batería.\n",
    "\n",
    "**Intervalos de confianza:**\n",
    "\n",
    "- **Muestra:** Edades de 30 personas.\n",
    "- **Intervalo de confianza del 95% para la edad media:** (22 años, 28 años). Esto significa que estamos 95% seguros de que la edad media de la población está entre 22 y 28 años."
   ]
  },
  {
   "cell_type": "code",
   "execution_count": null,
   "metadata": {},
   "outputs": [],
   "source": []
  },
  {
   "cell_type": "markdown",
   "metadata": {},
   "source": [
    "Cuando trabajamos con más de una variable en estadística, entramos en el terreno de la estadística multivariante, que permite analizar simultáneamente múltiples características de los datos. Aquí hay algunos conceptos y técnicas clave en estadística multivariante:\n",
    "\n",
    "**Correlación:** Mide la fuerza y la dirección de una relación lineal entre dos variables. Los coeficientes de correlación varían entre -1 y 1, donde valores cercanos a 1 indican una fuerte relación positiva, valores cercanos a -1 indican una fuerte relación negativa, y valores cercanos a 0 indican poca o ninguna relación lineal.\n",
    "\n",
    "**Regresión múltiple:** Extiende la regresión lineal simple para incluir varias variables independientes. Esto permite modelar la relación entre una variable dependiente y dos o más variables independientes, buscando predecir el valor de la variable dependiente basado en las independientes.\n",
    "\n",
    "**Análisis de varianza (ANOVA):** Utilizado para comparar las medias de tres o más grupos. Por ejemplo, podría utilizarse para determinar si las diferencias en el rendimiento académico entre estudiantes de diferentes escuelas son estadísticamente significativas.\n",
    "\n",
    "**Análisis de componentes principales (PCA):** Técnica que reduce la dimensionalidad de los datos mientras retiene la mayor parte de la varianza. Transforma las variables correlacionadas en un nuevo conjunto de variables que son linealmente independientes, llamadas componentes principales.\n",
    "\n",
    "**Análisis factorial:** Similar al PCA, pero se centra en modelar la variabilidad entre variables observadas en términos de un número menor de variables no observadas, llamadas factores. Es útil para identificar factores latentes que explican patrones en los datos.\n",
    "Análisis de conglomerados (clustering): Método para agrupar un conjunto de objetos de tal manera que los objetos en el mismo grupo (o cluster) son más similares entre sí que con los de otros grupos. Es comúnmente utilizado en el análisis de datos para encontrar patrones o grupos naturales en los datos.\n",
    "\n",
    "**Análisis discriminante:** Utilizado para determinar qué variables discriminan entre dos o más grupos naturales de casos, apoyando en la clasificación de casos en categorías.\n",
    "Por ejemplo, en un estudio de salud, podrías estar interesado en cómo varios factores (como dieta, ejercicio, y genética) influyen en un resultado de salud como la presión arterial. Usando técnicas como regresión múltiple y ANOVA, podrías investigar cómo estas variables operan juntas para afectar la presión arterial, mientras que con PCA podrías reducir estas variables a componentes principales que capturen la mayor parte de la información relevante."
   ]
  },
  {
   "cell_type": "markdown",
   "metadata": {},
   "source": [
    "**Correlación:**\n",
    "- **Variables:** Horas de estudio y puntuación en exámenes.\n",
    "- **Ejemplo:** Se mide la cantidad de horas que 50 estudiantes dedican al estudio y sus puntuaciones en un examen. Al calcular el coeficiente de correlación, se encuentra un valor de 0.85, indicando una fuerte relación positiva entre más horas de estudio y mayores puntuaciones.\n",
    "\n",
    "**Regresión múltiple:**\n",
    "\n",
    "- **Variables:** Ventas de un producto (dependiente), precios de publicidad y número de ventas promotores (independientes).\n",
    "- **Ejemplo:** Un análisis de regresión múltiple podría mostrar que ambos, precios de publicidad y número de vendedores, influyen positivamente en las ventas del producto, permitiendo prever las ventas futuras basándose en estos dos factores.\n",
    "\n",
    "**Análisis de varianza (ANOVA):**\n",
    "\n",
    "- **Variables:* Rendimiento académico de estudiantes distribuidos en tres diferentes métodos de enseñanza.\n",
    "- **Ejemplo:** ANOVA se utiliza para determinar si hay diferencias estadísticamente significativas en las medias de rendimiento entre los grupos de estudiantes que utilizan diferentes métodos de enseñanza. Suponiendo que p < 0.05, concluimos que al menos uno de los métodos es significativamente diferente de los otros.\n",
    "\n",
    "** Análisis de componentes principales (PCA):**\n",
    "- **Variables:** Datos multivariados de encuestas sobre preferencias de consumo.\n",
    "- **Ejemplo:** PCA podría usarse para reducir las dimensiones de un conjunto de datos que incluye opiniones sobre 10 diferentes productos, transformando estas variables en un conjunto menor de componentes principales que explican la mayor parte de la varianza en las preferencias de los consumidores.\n",
    "\n",
    "**Análisis factorial:**\n",
    "-**Variables:** Preguntas de una encuesta sobre síntomas de ansiedad y depresión.\n",
    "-**Ejemplo:** El análisis factorial se aplica para identificar factores subyacentes que explican la correlación entre diferentes síntomas, resultando en dos factores identificados: \"ansiedad\" y \"depresión\".\n",
    "\n",
    "**Análisis de conglomerados (clustering):**\n",
    "- **Variables:** Datos de clientes de un supermercado sobre frecuencia de compra y tipos de productos comprados.\n",
    "- **Ejemplo:** Se realiza un análisis de clusters para segmentar a los clientes en grupos según sus patrones de compra, encontrando por ejemplo, un grupo que frecuentemente compra productos orgánicos y otro que prefiere comprar en grandes cantidades.\n",
    "\n",
    "**Análisis discriminante:**\n",
    "**Variables:** Resultados de pruebas y características demográficas de estudiantes.\n",
    "**Ejemplo:** Se utiliza análisis discriminante para predecir si un estudiante pertenece a un grupo de alto rendimiento o bajo rendimiento académico basado en sus características demográficas y resultados de pruebas previas."
   ]
  },
  {
   "cell_type": "markdown",
   "metadata": {},
   "source": []
  },
  {
   "cell_type": "markdown",
   "metadata": {},
   "source": [
    "\n",
    "La covarianza es una medida estadística que indica el grado en que dos variables cambian conjuntamente. Es decir, muestra si los incrementos en una variable corresponden a incrementos en la otra variable (covarianza positiva), o si los incrementos en una variable corresponden a decrementos en la otra (covarianza negativa).\n",
    "\n",
    "\n",
    "Fórmula de la Covarianza\n",
    "La fórmula para calcular la covarianza entre dos variables, \n",
    "\n",
    "$\\begin{equation}\n",
    "\\text{Cov}(X,Y) = \\frac{\\sum^n_{i=1}(X_i - \\bar{X}) (Y_i - \\bar{Y})}{n-1}\n",
    "\\end{equation}$\n",
    "\n",
    "Donde:\n",
    "\n",
    "- $X_i$ y $Y_i$ son los valores individuales de las variables $𝑋$ e $𝑌$, respectivamente.\n",
    "- $\\bar{X}$ y $\\bar{Y}$ son las medias de $𝑋$ e $𝑌$, respectivamente.\n",
    "- $𝑛$ es el número total de observaciones.\n",
    "\n",
    "**Interpretación de la Covarianza**\n",
    "\n",
    "- **Covarianza positiva:** Indica que a medida que una variable aumenta, la otra también tiende a aumentar.\n",
    "- **Covarianza negativa:** Sugiere que a medida que una variable aumenta, la otra tiende a disminuir.\n",
    "- **Covarianza cero:** Implica que no hay una relación lineal entre las variables.\n",
    "\n",
    "\n",
    "**Limitaciones de la Covarianza**\n",
    "\n",
    "Una limitación importante de la covarianza es que su magnitud no está estandarizada. Por lo tanto, es difícil determinar la fuerza de la relación entre las variables solo con el valor de la covarianza. Para abordar este problema, se suele utilizar el coeficiente de correlación de Pearson, que estandariza la covarianza dividiéndola por el producto de las desviaciones estándar de las variables involucradas, proporcionando así un valor entre -1 y 1 que es más fácil de interpretar.\n",
    "\n",
    "La covarianza es una herramienta fundamental en estadística, especialmente útil en el análisis de variables múltiples y en la construcción de modelos financieros, análisis de riesgo y otros campos que involucran relaciones entre variables.\n"
   ]
  },
  {
   "cell_type": "markdown",
   "metadata": {},
   "source": []
  },
  {
   "cell_type": "markdown",
   "metadata": {},
   "source": [
    "La correlación es una medida estadística que describe el grado de relación entre dos variables cuantitativas. Nos indica cómo cambian juntas estas variables, permitiendo evaluar si los movimientos en una se asocian sistemáticamente con movimientos en la otra.\n",
    "\n",
    "**Tipos de Correlación**\n",
    "\n",
    "- **Correlación Positiva:** Cuando una variable aumenta, la otra también lo hace. Por ejemplo, generalmente se espera que a más horas de estudio, mayores sean las calificaciones.\n",
    "- **Correlación Negativa:** Cuando una variable aumenta, la otra disminuye. Un ejemplo clásico es la relación entre el precio de un producto y la cantidad demandada del mismo (suponiendo que otros factores se mantengan constantes).\n",
    "- **Sin Correlación:** No existe una relación lineal aparente entre las variables. Los cambios en una variable no predicen cambios en la otra.\n",
    "\n",
    "Coeficiente de Correlación\n",
    "El coeficiente de correlación de Pearson es la medida más común de correlación lineal entre dos variables, y se define como la covarianza de las variables dividida por el producto de sus desviaciones estándar. Se denota generalmente por $r$ y su fórmula es:\n",
    "\n",
    "$\\begin{equation}\n",
    "r(X,Y) = \\frac{\\sum^n_{i=1}(X_i - \\bar{X}) (Y_i - \\bar{Y})}{ \\sqrt{\\sum^n_{i=1}(X_i - \\bar{X})^2 \\sum^n_{i=1}(Y_i - \\bar{Y})^2 }}\n",
    "\\end{equation}$\n",
    "\n",
    "\n",
    "Donde $𝑋_i$ y $Y_i$ son los valores de las variables $X$ e $Y$, y $\\bar{X}$ y $\\bar{Y}$ son las medias de estas variables.\n",
    "\n",
    "El valor de $r$ siempre está entre $-1$ y $1$:\n",
    "\n",
    "- $r=1$: Correlación positiva perfecta.\n",
    "- $r=−1$: Correlación negativa perfecta.\n",
    "- $r=0:$ No hay correlación lineal.\n",
    "\n",
    "**Otros Coeficientes de Correlación**\n",
    "\n",
    "- **Spearman:** Mide la correlación de rango, útil cuando los datos no cumplen los supuestos para el coeficiente de Pearson, como en datos no paramétricos.\n",
    "- **Kendall Tau:** Otro coeficiente de correlación de rango, se utiliza para medir la asociación ordinal entre dos medidas.\n",
    "\n",
    "**Importancia y Usos**\n",
    "\n",
    "La correlación es crucial en campos como la economía, la biología, la psicología, las finanzas, y más, donde entender las relaciones entre variables es fundamental para la investigación y toma de decisiones. Por ejemplo, en finanzas, la correlación entre diferentes activos se utiliza para optimizar las carteras y gestionar el riesgo.\n",
    "\n",
    "Es importante recordar que **\"correlación no implica causalidad\"**. Una alta correlación entre dos variables no significa que una cause la otra; pueden estar influidas por factores externos o por una tercera variable no considerada."
   ]
  },
  {
   "cell_type": "markdown",
   "metadata": {},
   "source": []
  },
  {
   "cell_type": "markdown",
   "metadata": {},
   "source": [
    "## Covarianza\n",
    "\n",
    "1. **Definición**: La covarianza mide el grado en que dos variables varían juntas. Si una variable tiende a aumentar mientras la otra también aumenta, la covarianza es positiva. Si una aumenta mientras la otra disminuye, la covarianza es negativa.\n",
    "\n",
    "2. **Magnitud**: El valor de la covarianza no está limitado a un rango específico, lo que significa que puede ser cualquier número positivo o negativo. Esto hace que sea difícil comparar la covarianza entre diferentes pares de variables, pues depende de las escalas de las variables.\n",
    "\n",
    "3. **Unidades**: La covarianza está en unidades que resultan del producto de las unidades de las dos variables. Por ejemplo, si una variable se mide en metros y la otra en segundos, la covarianza se medirá en metros-segundos.\n",
    "\n",
    "## Correlación\n",
    "\n",
    "1. **Definición**: El coeficiente de correlación, especialmente el de Pearson, mide la fuerza y la dirección de una relación lineal entre dos variables. A diferencia de la covarianza, la correlación está estandarizada.\n",
    "\n",
    "2. **Magnitud**: El coeficiente de correlación de Pearson está siempre limitado entre -1 y 1. Un valor de 1 indica una correlación positiva perfecta, -1 indica una correlación negativa perfecta, y 0 indica que no hay correlación lineal.\n",
    "\n",
    "3. **Unidades**: La correlación es una medida adimensional, lo que significa que no depende de las unidades de las variables y es útil para comparar relaciones entre pares de variables en términos estandarizados.\n",
    "\n",
    "## Comparación y Aplicación\n",
    "\n",
    "- **Comparabilidad**: Mientras que la covarianza puede variar en magnitud, lo que dificulta la comparación directa entre diferentes pares de variables, la correlación proporciona una medida estandarizada que es fácilmente comparable a través de diferentes conjuntos de datos.\n",
    "- **Interpretación**: La correlación es generalmente más útil que la covarianza para determinar qué tan fuerte es la relación entre dos variables, porque es independiente de la escala y las unidades de las variables.\n",
    "- **Aplicación**: La covarianza es útil para determinar la dirección de la relación (positiva o negativa), pero la correlación es necesaria para juzgar la fuerza de esta relación de manera efectiva.\n",
    "\n"
   ]
  },
  {
   "cell_type": "code",
   "execution_count": null,
   "metadata": {},
   "outputs": [],
   "source": []
  },
  {
   "cell_type": "code",
   "execution_count": null,
   "metadata": {},
   "outputs": [],
   "source": []
  },
  {
   "cell_type": "markdown",
   "metadata": {},
   "source": [
    "## Ejemplo Utilizando Correlación y Covarianza\n",
    "\n",
    "Para ilustrar cómo calcular y entender la correlación y la covarianza, usaremos un conjunto de datos que muestra las horas de estudio y las calificaciones obtenidas por un grupo de estudiantes.\n",
    "\n",
    "### Datos de Ejemplo\n",
    "\n",
    "| Estudiante | Horas de estudio (X) | Calificación (Y) |\n",
    "|------------|----------------------|------------------|\n",
    "| A          | 1                    | 55               |\n",
    "| B          | 2                    | 60               |\n",
    "| C          | 3                    | 65               |\n",
    "| D          | 4                    | 68               |\n",
    "| E          | 5                    | 72               |\n",
    "\n",
    "### Paso 1: Calcular la Media de Cada Variable\n",
    "\n",
    "- Media de horas de estudio $( \\bar{X} ): ( \\frac{1+2+3+4+5}{5} = 3 )$\n",
    "- Media de calificaciones $( \\bar{Y} ): ( \\frac{55+60+65+68+72}{5} = 64 )$\n",
    "\n",
    "### Paso 2: Calcular la Covarianza\n",
    "\n",
    "Usamos la fórmula de la covarianza:\n",
    "\n",
    "$\\begin{equation}\n",
    "\\text{Cov}(X, Y) = \\frac{\\sum_{i=1}^n (X_i - \\bar{X})(Y_i - \\bar{Y})}{n-1}\n",
    "\\end{equation}\n",
    "$\n",
    "\n",
    "Calculando cada término:\n",
    "\n",
    "- $( (1-3)(55-64) = 2 \\times -9 = 18 )$\n",
    "- $( (2-3)(60-64) = -1 \\times -4 = 4 )$\n",
    "- $( (3-3)(65-64) = 0 )$\n",
    "- $( (4-3)(68-64) = 4 )$\n",
    "- $( (5-3)(72-64) = 16 )$\n",
    "\n",
    "Suma total = $42$\n",
    "\n",
    "Dividimos por $( n-1 )$ (donde $( n = 5 )$): $( \\frac{42}{4} = 10.5 )$\n",
    "\n",
    "La covarianza entre las horas de estudio y las calificaciones es $10.5$, indicando una relación positiva.\n",
    "\n",
    "### Paso 3: Calcular la correlación\n",
    "\n",
    "Utilizamos la fórmula del coeficiente de correlación de Pearson:\n",
    "\n",
    "$\\begin{equation}\n",
    "r = \\frac{\\sum_{i=1}^n (X_i - \\bar{X})(Y_i - \\bar{Y})}{\\sqrt{\\sum_{i=1}^n (X_i - \\bar{X})^2 \\sum_{i=1}^n (Y_i - \\bar{Y})^2}}\n",
    "\\end{equation}\n",
    "$\n",
    "\n",
    "Con los valores ya calculados:\n",
    "\n",
    "$\\begin{equation}\n",
    "r = \\frac{42}{\\sqrt{10 \\times 130}} \\approx 0.97\n",
    "\\end{equation}\n",
    "$\n",
    "\n",
    "Este coeficiente de correlación muy cercano a 1 indica una fuerte relación lineal positiva entre las horas de estudio y las calificaciones.\n",
    "\n",
    "### Conclusión\n",
    "\n",
    "El cálculo de la covarianza nos dio una medida de la tendencia conjunta de las variables, mientras que el coeficiente de correlación proporcionó una medida normalizada de la fuerza de esta relación.\n"
   ]
  },
  {
   "cell_type": "markdown",
   "metadata": {},
   "source": []
  },
  {
   "cell_type": "code",
   "execution_count": 2,
   "metadata": {},
   "outputs": [],
   "source": [
    "X = np.array([1,2,3,4,5])\n",
    "Y = np.array([55,60,65,68,72])\n"
   ]
  },
  {
   "cell_type": "code",
   "execution_count": 4,
   "metadata": {},
   "outputs": [
    {
     "data": {
      "text/plain": [
       "(3.0, 64.0, 1.4142135623730951, 5.966573556070519)"
      ]
     },
     "execution_count": 4,
     "metadata": {},
     "output_type": "execute_result"
    }
   ],
   "source": [
    "X.mean(), Y.mean(),X.std(),Y.std()"
   ]
  },
  {
   "cell_type": "code",
   "execution_count": 6,
   "metadata": {},
   "outputs": [
    {
     "data": {
      "text/plain": [
       "array([[ 2.5, 10.5],\n",
       "       [10.5, 44.5]])"
      ]
     },
     "execution_count": 6,
     "metadata": {},
     "output_type": "execute_result"
    }
   ],
   "source": [
    "np.cov(X,Y)"
   ]
  },
  {
   "cell_type": "code",
   "execution_count": 7,
   "metadata": {},
   "outputs": [
    {
     "data": {
      "text/plain": [
       "array([[1.        , 0.99549547],\n",
       "       [0.99549547, 1.        ]])"
      ]
     },
     "execution_count": 7,
     "metadata": {},
     "output_type": "execute_result"
    }
   ],
   "source": [
    "np.corrcoef(X,Y)"
   ]
  },
  {
   "cell_type": "code",
   "execution_count": 5,
   "metadata": {},
   "outputs": [
    {
     "data": {
      "text/plain": [
       "(10.5, 0.9954954725939521)"
      ]
     },
     "execution_count": 5,
     "metadata": {},
     "output_type": "execute_result"
    }
   ],
   "source": [
    "np.cov(X,Y)[0,1],np.corrcoef(X,Y)[0,1]"
   ]
  },
  {
   "cell_type": "code",
   "execution_count": null,
   "metadata": {},
   "outputs": [],
   "source": []
  },
  {
   "cell_type": "code",
   "execution_count": null,
   "metadata": {},
   "outputs": [],
   "source": []
  }
 ],
 "metadata": {
  "kernelspec": {
   "display_name": "Robotica_2023",
   "language": "python",
   "name": "robotica_2023"
  },
  "language_info": {
   "codemirror_mode": {
    "name": "ipython",
    "version": 3
   },
   "file_extension": ".py",
   "mimetype": "text/x-python",
   "name": "python",
   "nbconvert_exporter": "python",
   "pygments_lexer": "ipython3",
   "version": "3.11.4"
  }
 },
 "nbformat": 4,
 "nbformat_minor": 2
}
